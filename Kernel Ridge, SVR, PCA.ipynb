{
 "cells": [
  {
   "cell_type": "code",
   "execution_count": null,
   "metadata": {
    "collapsed": false
   },
   "outputs": [],
   "source": [
    "import numpy as np"
   ]
  },
  {
   "cell_type": "code",
   "execution_count": null,
   "metadata": {
    "collapsed": false
   },
   "outputs": [],
   "source": [
    "# load the data\n",
    "\n",
    "K = np.loadtxt('ncicancer_kernel_hf_ex0.txt')\n",
    "y = np.loadtxt('y1.txt')"
   ]
  },
  {
   "cell_type": "code",
   "execution_count": null,
   "metadata": {
    "collapsed": false
   },
   "outputs": [],
   "source": [
    "K.shape, y.shape"
   ]
  },
  {
   "cell_type": "code",
   "execution_count": null,
   "metadata": {
    "collapsed": false
   },
   "outputs": [],
   "source": [
    "y"
   ]
  },
  {
   "cell_type": "code",
   "execution_count": null,
   "metadata": {
    "collapsed": true
   },
   "outputs": [],
   "source": [
    "from sklearn.cross_validation import ShuffleSplit"
   ]
  },
  {
   "cell_type": "code",
   "execution_count": null,
   "metadata": {
    "collapsed": true
   },
   "outputs": [],
   "source": [
    "cv = ShuffleSplit(K.shape[0], n_iter=5, test_size=500, random_state=42)"
   ]
  },
  {
   "cell_type": "code",
   "execution_count": null,
   "metadata": {
    "collapsed": false
   },
   "outputs": [],
   "source": [
    "from sklearn.kernel_ridge import KernelRidge\n",
    "from sklearn.svm import SVR\n",
    "from sklearn.metrics.regression import r2_score\n",
    "\n",
    "models = KernelRidge, SVR\n",
    "\n",
    "scores = {model.__name__: [] for model in models}\n",
    "\n",
    "for outer_train, outer_test in cv:\n",
    "    for model in models:\n",
    "        est = model(kernel='precomputed')\n",
    "        K_train_train = K[outer_train[:, np.newaxis], outer_train]\n",
    "        y_train = y[outer_train]\n",
    "        \n",
    "        est.fit(K_train_train, y_train)\n",
    "        K_test_train = K[outer_test[:, np.newaxis], outer_train]\n",
    "        y_test = y[outer_test]\n",
    "        pred = est.predict(K_test_train)\n",
    "        score = r2_score(y_test, pred)\n",
    "        scores[model.__name__].append(score)"
   ]
  },
  {
   "cell_type": "code",
   "execution_count": null,
   "metadata": {
    "collapsed": false
   },
   "outputs": [],
   "source": [
    "{key: (np.mean(value), np.std(value)) for key, value in scores.items()}"
   ]
  },
  {
   "cell_type": "code",
   "execution_count": null,
   "metadata": {
    "collapsed": false
   },
   "outputs": [],
   "source": [
    "alphas = np.logspace(-3, 3, 20)\n",
    "Cs = np.logspace(3, -3, 20)\n",
    "\n",
    "models = (KernelRidge, 'alpha', alphas), (SVR, 'C', Cs)\n"
   ]
  },
  {
   "cell_type": "code",
   "execution_count": null,
   "metadata": {
    "collapsed": false
   },
   "outputs": [],
   "source": [
    "from sklearn.cross_validation import KFold\n"
   ]
  },
  {
   "cell_type": "code",
   "execution_count": null,
   "metadata": {
    "collapsed": false
   },
   "outputs": [],
   "source": []
  },
  {
   "cell_type": "code",
   "execution_count": null,
   "metadata": {
    "collapsed": false
   },
   "outputs": [],
   "source": [
    "scores = {model[0].__name__: [] for model in models}\n",
    "\n",
    "for outer_train, outer_test in cv:\n",
    "    inner_cv = KFold(len(outer_train), n_folds=3)\n",
    "    for model, param, param_vals in models:\n",
    "        print(\"evaluating {}\".format(model.__name__))\n",
    "        inner_scores = []\n",
    "        K_train_train = K[outer_train[:, np.newaxis], outer_train]\n",
    "        y_train = y[outer_train]\n",
    "        K_test_train = K[outer_test[:, np.newaxis], outer_train]\n",
    "        y_test = y[outer_test]\n",
    "        for param_val in param_vals:\n",
    "            #print(\"testing param {}\".format(param_val))\n",
    "            param_scores = []\n",
    "            est = model(kernel='precomputed')\n",
    "            setattr(est, param, param_val)\n",
    "            for inner_train, inner_test in inner_cv:\n",
    "                est.fit(K_train_train[inner_train[:, np.newaxis],\n",
    "                                      inner_train],\n",
    "                        y_train[inner_train])\n",
    "                pred = est.predict(K_train_train[\n",
    "                            inner_test[:, np.newaxis],\n",
    "                            inner_train])\n",
    "                score = r2_score(y_train[inner_test], pred)\n",
    "                param_scores.append(score)\n",
    "            inner_scores.append(param_scores)\n",
    "        mean_inner_scores = np.mean(inner_scores, axis=1)\n",
    "        argbest_param = np.argmax(mean_inner_scores)\n",
    "        best_param = param_vals[argbest_param]\n",
    "        print(\"Best parameter for {}: {}\".format(model.__name__, best_param))\n",
    "        setattr(est, param, best_param)\n",
    "        est.fit(K_train_train, y_train)\n",
    "        pred = est.predict(K_test_train)\n",
    "        score = r2_score(y_test, pred)\n",
    "        scores[model.__name__].append(score)"
   ]
  },
  {
   "cell_type": "code",
   "execution_count": null,
   "metadata": {
    "collapsed": false
   },
   "outputs": [],
   "source": [
    "scores"
   ]
  },
  {
   "cell_type": "code",
   "execution_count": null,
   "metadata": {
    "collapsed": false
   },
   "outputs": [],
   "source": [
    "{key: np.mean(value) for key, value in scores.items()}"
   ]
  },
  {
   "cell_type": "markdown",
   "metadata": {},
   "source": [
    "# Kernel PCA"
   ]
  },
  {
   "cell_type": "code",
   "execution_count": 80,
   "metadata": {
    "collapsed": true
   },
   "outputs": [],
   "source": [
    "from sklearn.datasets import load_digits\n",
    "\n",
    "digits = load_digits()\n",
    "\n",
    "X, y = digits.data, digits.target"
   ]
  },
  {
   "cell_type": "code",
   "execution_count": 81,
   "metadata": {
    "collapsed": true
   },
   "outputs": [],
   "source": [
    "from sklearn.decomposition import KernelPCA"
   ]
  },
  {
   "cell_type": "code",
   "execution_count": 84,
   "metadata": {
    "collapsed": true
   },
   "outputs": [],
   "source": [
    "from sklearn.decomposition import PCA"
   ]
  },
  {
   "cell_type": "code",
   "execution_count": 100,
   "metadata": {
    "collapsed": false
   },
   "outputs": [
    {
     "data": {
      "text/plain": [
       "PCA(copy=True, n_components=None, whiten=False)"
      ]
     },
     "execution_count": 100,
     "metadata": {},
     "output_type": "execute_result"
    }
   ],
   "source": [
    "pca = PCA()\n",
    "pca.fit(X)"
   ]
  },
  {
   "cell_type": "code",
   "execution_count": 88,
   "metadata": {
    "collapsed": false
   },
   "outputs": [
    {
     "data": {
      "image/png": "[encoded data removed]",
      "text/plain": [
       "<matplotlib.figure.Figure at 0x7fa576ec2450>"
      ]
     },
     "metadata": {},
     "output_type": "display_data"
    }
   ],
   "source": [
    "%matplotlib inline\n",
    "import matplotlib.pyplot as plt\n",
    "plt.figure()\n",
    "for i in range(pca.n_components):\n",
    "    plt.subplot(2, pca.n_components / 2, i + 1)\n",
    "    plt.imshow(pca.components_[i].reshape(8, 8), interpolation='nearest')\n",
    "    plt.gray()\n",
    "    plt.axis('off')"
   ]
  },
  {
   "cell_type": "code",
   "execution_count": 90,
   "metadata": {
    "collapsed": false
   },
   "outputs": [
    {
     "data": {
      "text/plain": [
       "KernelPCA(alpha=1.0, coef0=1, degree=3, eigen_solver='auto',\n",
       "     fit_inverse_transform=True, gamma=None, kernel='linear',\n",
       "     kernel_params=None, max_iter=None, n_components=None,\n",
       "     remove_zero_eig=False, tol=0)"
      ]
     },
     "execution_count": 90,
     "metadata": {},
     "output_type": "execute_result"
    }
   ],
   "source": [
    "kpca = KernelPCA(kernel='linear', fit_inverse_transform=True)\n",
    "kpca.fit(X)"
   ]
  },
  {
   "cell_type": "code",
   "execution_count": 101,
   "metadata": {
    "collapsed": false
   },
   "outputs": [
    {
     "data": {
      "image/png": "[encoded data removed]",
      "text/plain": [
       "<matplotlib.figure.Figure at 0x7fa577cdcf90>"
      ]
     },
     "metadata": {},
     "output_type": "display_data"
    }
   ],
   "source": [
    "plt.plot(kpca.lambdas_[:64])\n",
    "plt.plot(pca.explained_variance_)\n",
    "plt.yscale('log')"
   ]
  },
  {
   "cell_type": "code",
   "execution_count": 103,
   "metadata": {
    "collapsed": false
   },
   "outputs": [],
   "source": [
    "kernels = ('rbf', 'gamma', [.01, 1.]), ('poly', 'degree', [1, 3])"
   ]
  },
  {
   "cell_type": "code",
   "execution_count": 108,
   "metadata": {
    "collapsed": false
   },
   "outputs": [
    {
     "data": {
      "text/plain": [
       "<matplotlib.legend.Legend at 0x7fa5773f3210>"
      ]
     },
     "execution_count": 108,
     "metadata": {},
     "output_type": "execute_result"
    },
    {
     "data": {
      "image/png": "[encoded data removed]",
      "text/plain": [
       "<matplotlib.figure.Figure at 0x7fa577846c10>"
      ]
     },
     "metadata": {},
     "output_type": "display_data"
    }
   ],
   "source": [
    "plt.figure()\n",
    "for kernel, param_name, param_vals in kernels:\n",
    "    kpca = KernelPCA(kernel=kernel)\n",
    "    for param_val in param_vals:\n",
    "        setattr(kpca, param_name, param_val)\n",
    "        kpca.fit(X)\n",
    "        plt.plot(kpca.lambdas_[:64], label='{} {} {}'.format(\n",
    "                    kernel, param_name, param_val))\n",
    "        plt.yscale('log')\n",
    "plt.legend(loc='lower left')"
   ]
  },
  {
   "cell_type": "code",
   "execution_count": 109,
   "metadata": {
    "collapsed": true
   },
   "outputs": [],
   "source": [
    "KernelPCA??"
   ]
  },
  {
   "cell_type": "markdown",
   "metadata": {},
   "source": [
    "## transforming and inverse transforming"
   ]
  },
  {
   "cell_type": "code",
   "execution_count": 145,
   "metadata": {
    "collapsed": false
   },
   "outputs": [],
   "source": [
    "kpca = KernelPCA(alpha=.1, kernel='rbf', gamma=.1, fit_inverse_transform=True, n_components=60)\n",
    "cv = ShuffleSplit(len(X), n_iter=1, test_size=500)\n",
    "\n",
    "train, test = next(iter(cv))"
   ]
  },
  {
   "cell_type": "code",
   "execution_count": 146,
   "metadata": {
    "collapsed": false
   },
   "outputs": [
    {
     "data": {
      "text/plain": [
       "KernelPCA(alpha=0.1, coef0=1, degree=3, eigen_solver='auto',\n",
       "     fit_inverse_transform=True, gamma=0.1, kernel='rbf',\n",
       "     kernel_params=None, max_iter=None, n_components=60,\n",
       "     remove_zero_eig=False, tol=0)"
      ]
     },
     "execution_count": 146,
     "metadata": {},
     "output_type": "execute_result"
    }
   ],
   "source": [
    "kpca.fit(X[train])"
   ]
  },
  {
   "cell_type": "code",
   "execution_count": 147,
   "metadata": {
    "collapsed": true
   },
   "outputs": [],
   "source": [
    "Xtrain_pca = kpca.transform(X[train])\n",
    "Xinv = kpca.inverse_transform(Xtrain_pca)"
   ]
  },
  {
   "cell_type": "code",
   "execution_count": 116,
   "metadata": {
    "collapsed": false
   },
   "outputs": [
    {
     "data": {
      "text/plain": [
       "(1297, 64)"
      ]
     },
     "execution_count": 116,
     "metadata": {},
     "output_type": "execute_result"
    }
   ],
   "source": [
    "Xinv.shape"
   ]
  },
  {
   "cell_type": "code",
   "execution_count": 117,
   "metadata": {
    "collapsed": false
   },
   "outputs": [
    {
     "data": {
      "text/plain": [
       "(1297, 4)"
      ]
     },
     "execution_count": 117,
     "metadata": {},
     "output_type": "execute_result"
    }
   ],
   "source": [
    "Xtrain_pca.shape"
   ]
  },
  {
   "cell_type": "code",
   "execution_count": 148,
   "metadata": {
    "collapsed": false
   },
   "outputs": [
    {
     "name": "stderr",
     "output_type": "stream",
     "text": [
      "/home/me232320/software/python_pkg/anaconda/lib/python2.7/site-packages/sklearn/metrics/regression.py:468: DeprecationWarning: Default 'multioutput' behavior now corresponds to 'variance_weighted' value, it will be changed to 'uniform_average' in 0.18.\n",
      "  DeprecationWarning)\n"
     ]
    },
    {
     "data": {
      "text/plain": [
       "0.085798974213989382"
      ]
     },
     "execution_count": 148,
     "metadata": {},
     "output_type": "execute_result"
    }
   ],
   "source": [
    "r2_score(X[train], Xinv)"
   ]
  },
  {
   "cell_type": "code",
   "execution_count": 149,
   "metadata": {
    "collapsed": false
   },
   "outputs": [
    {
     "data": {
      "text/plain": [
       "(1297, 64)"
      ]
     },
     "execution_count": 149,
     "metadata": {},
     "output_type": "execute_result"
    }
   ],
   "source": [
    "Xinv.shape"
   ]
  },
  {
   "cell_type": "code",
   "execution_count": 150,
   "metadata": {
    "collapsed": false
   },
   "outputs": [
    {
     "data": {
      "text/plain": [
       "1296"
      ]
     },
     "execution_count": 150,
     "metadata": {},
     "output_type": "execute_result"
    }
   ],
   "source": [
    "36 ** 2"
   ]
  },
  {
   "cell_type": "code",
   "execution_count": 152,
   "metadata": {
    "collapsed": false
   },
   "outputs": [
    {
     "data": {
      "text/plain": [
       "<matplotlib.image.AxesImage at 0x7fa577044d90>"
      ]
     },
     "execution_count": 152,
     "metadata": {},
     "output_type": "execute_result"
    },
    {
     "data": {
      "image/png": "[encoded data removed]",
      "text/plain": [
       "<matplotlib.figure.Figure at 0x7fa5772ea390>"
      ]
     },
     "metadata": {},
     "output_type": "display_data"
    }
   ],
   "source": [
    "plt.matshow(Xinv[:100].reshape(10, 10, 8, 8).transpose(0, 2, 1, 3).reshape(10 * 8, -1))"
   ]
  },
  {
   "cell_type": "code",
   "execution_count": null,
   "metadata": {
    "collapsed": true
   },
   "outputs": [],
   "source": []
  }
 ],
 "metadata": {
  "kernelspec": {
   "display_name": "Python 2",
   "language": "python",
   "name": "python2"
  },
  "language_info": {
   "codemirror_mode": {
    "name": "ipython",
    "version": 2
   },
   "file_extension": ".py",
   "mimetype": "text/x-python",
   "name": "python",
   "nbconvert_exporter": "python",
   "pygments_lexer": "ipython2",
   "version": "2.7.10"
  }
 },
 "nbformat": 4,
 "nbformat_minor": 0
}
